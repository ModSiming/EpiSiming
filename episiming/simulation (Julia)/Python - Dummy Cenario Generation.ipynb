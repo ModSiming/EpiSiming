{
 "cells": [
  {
   "cell_type": "code",
   "execution_count": 1,
   "metadata": {},
   "outputs": [
    {
     "name": "stdout",
     "output_type": "stream",
     "text": [
      "Populating the interactive namespace from numpy and matplotlib\n"
     ]
    }
   ],
   "source": [
    "%pylab inline\n",
    "import os"
   ]
  },
  {
   "cell_type": "code",
   "execution_count": 2,
   "metadata": {},
   "outputs": [],
   "source": [
    "def genNetwork(n, sizes):\n",
    "    individuals = choice(n, sizes.sum(), replace=False)\n",
    "    aux = []\n",
    "    \n",
    "    k = 0\n",
    "    for i in sizes:\n",
    "        aux.append(individuals[k:k+i])\n",
    "        k += i\n",
    "    \n",
    "    particle = -1 * ones(n, dtype=int64)\n",
    "    for i, j in enumerate(aux):\n",
    "        particle[j] = i\n",
    "    return particle"
   ]
  },
  {
   "cell_type": "code",
   "execution_count": 3,
   "metadata": {},
   "outputs": [],
   "source": [
    "# size of the population\n",
    "n = 10000\n",
    "\n",
    "# initial amount of exposed\n",
    "I0 = 10\n",
    "\n",
    "# proportion of asymptomatics\n",
    "p = 0.8"
   ]
  },
  {
   "cell_type": "code",
   "execution_count": 4,
   "metadata": {},
   "outputs": [],
   "source": [
    "## general information about the population\n",
    "\n",
    "# choose random individuals to be exposed at t0\n",
    "initialState = ones(n, dtype=int64)\n",
    "initialState[choice(n, size = I0, replace = False)] = 2\n",
    "initialTransition = zeros((n, 3), dtype=int64)\n",
    "\n",
    "# the individual infection rate\n",
    "rho = gamma(10, 1/10, size = n)\n",
    "\n",
    "# individual position\n",
    "positions = uniform(0, 2, (n, 2))\n",
    "squares = (floor(positions).astype(int64) * array([1, 2])).sum(1)\n",
    "\n",
    "# assumes a constant profile for 14 days\n",
    "viralCharge = ones((n, 14))\n",
    "\n",
    "# define which individuals will be asymptomatic\n",
    "asymptomatic = rand(n) < p\n",
    "\n",
    "# it takes 3 days to every asymptomatic start infecting and 7 days for every infected\n",
    "preInfectionPeriod = 7 * ones(n, dtype=int64)\n",
    "preInfectionPeriod[asymptomatic] = 3"
   ]
  },
  {
   "cell_type": "code",
   "execution_count": 5,
   "metadata": {},
   "outputs": [],
   "source": [
    "## an example of network\n",
    "\n",
    "# number of particles\n",
    "m = 2000\n",
    "\n",
    "# particle sizes\n",
    "sizes = poisson(3, size = m) + 1\n",
    "\n",
    "# define which particle each individual belongs\n",
    "networkpeopleParticle = genNetwork(n, sizes)\n",
    "\n",
    "# particle position\n",
    "networkposition = uniform(0, 2, (m, 2))\n",
    "networksquare = (floor(networkposition).astype(int64) * array([1, 2])).sum(1)\n",
    "\n",
    "# transmission rate inside each particle\n",
    "networkthetaa = 1 / sizes\n",
    "networkthetai = (1 / sizes) ** 2"
   ]
  },
  {
   "cell_type": "code",
   "execution_count": 6,
   "metadata": {},
   "outputs": [],
   "source": [
    "# saving the scenario\n",
    "folder = os.path.join('data', 'example')\n",
    "\n",
    "try:\n",
    "    os.mkdir('data')\n",
    "except:\n",
    "    pass\n",
    "\n",
    "try:\n",
    "    os.mkdir(folder)\n",
    "except:\n",
    "    pass\n",
    "\n",
    "for i in ['asymptomatic', 'initialState', 'initialTransition', 'positions', 'preInfectionPeriod', 'rho', 'squares', 'viralCharge']:\n",
    "    with open(os.path.join(folder, i + '.eps'), 'wb') as f:\n",
    "        save(f, eval(i))\n",
    "\n",
    "try:\n",
    "    os.mkdir(os.path.join(folder, 'networks'))\n",
    "except:\n",
    "    pass\n",
    "\n",
    "try:\n",
    "    os.mkdir(os.path.join(folder, 'networks', 'dummy'))\n",
    "except:\n",
    "    pass\n",
    "\n",
    "for i in ['peopleParticle', 'position', 'square', 'thetaa', 'thetai']:\n",
    "    with open(os.path.join(folder, 'networks', 'dummy', i + '.eps'), 'wb') as f:\n",
    "        save(f, eval('network' + i))"
   ]
  }
 ],
 "metadata": {
  "kernelspec": {
   "display_name": "Python 3",
   "language": "python",
   "name": "python3"
  },
  "language_info": {
   "codemirror_mode": {
    "name": "ipython",
    "version": 3
   },
   "file_extension": ".py",
   "mimetype": "text/x-python",
   "name": "python",
   "nbconvert_exporter": "python",
   "pygments_lexer": "ipython3",
   "version": "3.8.5"
  }
 },
 "nbformat": 4,
 "nbformat_minor": 4
}
