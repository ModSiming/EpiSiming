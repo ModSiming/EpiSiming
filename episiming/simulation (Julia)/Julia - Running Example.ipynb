{
 "cells": [
  {
   "cell_type": "code",
   "execution_count": 5,
   "metadata": {},
   "outputs": [],
   "source": [
    "using Distributed\n",
    "addprocs(3)\n",
    "\n",
    "@everywhere include(\"episiming.jl\")\n",
    "@everywhere include(\"imports.jl\")"
   ]
  },
  {
   "cell_type": "code",
   "execution_count": 6,
   "metadata": {},
   "outputs": [],
   "source": [
    "population = readScenario(\"example\");"
   ]
  },
  {
   "cell_type": "code",
   "execution_count": 7,
   "metadata": {},
   "outputs": [],
   "source": [
    "@everywhere function powerDecay(a::Number, b::Number, x)\n",
    "    y = rowWiseNorm(x)\n",
    "    return 1.0 ./ (1.0 .+ (y ./ a) .^ b)\n",
    "end\n",
    "\n",
    "@everywhere fKernel(x) = powerDecay(1., 1.5, x)"
   ]
  },
  {
   "cell_type": "code",
   "execution_count": 8,
   "metadata": {},
   "outputs": [],
   "source": [
    "a = @parallelSimulation(population, Array(1:5), fKernel, 0.1, 0.1, 3);"
   ]
  },
  {
   "cell_type": "code",
   "execution_count": null,
   "metadata": {},
   "outputs": [],
   "source": []
  }
 ],
 "metadata": {
  "kernelspec": {
   "display_name": "Julia 1.4.1",
   "language": "julia",
   "name": "julia-1.4"
  },
  "language_info": {
   "file_extension": ".jl",
   "mimetype": "application/julia",
   "name": "julia",
   "version": "1.4.1"
  }
 },
 "nbformat": 4,
 "nbformat_minor": 4
}
