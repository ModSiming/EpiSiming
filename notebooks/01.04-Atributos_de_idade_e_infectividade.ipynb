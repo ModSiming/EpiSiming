{
 "cells": [
  {
   "cell_type": "markdown",
   "metadata": {
    "slideshow": {
     "slide_type": "skip"
    }
   },
   "source": [
    "<!--HEADER-->\n",
    "*Documentation for the EpiSiming epidemic simulation package*"
   ]
  },
  {
   "cell_type": "markdown",
   "metadata": {
    "slideshow": {
     "slide_type": "skip"
    }
   },
   "source": [
    "<!--BADGES-->\n",
    "<a href=\"https://colab.research.google.com/github/episiming/epsiming/blob/master/notebooks/01.03-Atributos_de_idade_e_infectividade.ipynb\" target=\"_blank\"><img align=\"left\" src=\"https://colab.research.google.com/assets/colab-badge.svg\" alt=\"Open in Google Colab\" title=\"Open in Google Colab\"></a><a href=\"https://mybinder.org/v2/gh/episiming/episiming/master?filepath=notebooks/01.03-Atributos_de_idade_e_infectividade.ipynb\" target=\"_blank\"><img align=\"left\" src=\"https://mybinder.org/badge.svg\" alt=\"Open in Binder\" title=\"Open in Binder\"></a><a href=\"https://nbviewer.jupyter.org/github/episiming/episiming/blob/master/notebooks/01.03-Atributos_de_idade_e_infectividade.ipynb\" target=\"_blank\"><img align=\"left\" src=\"https://img.shields.io/badge/view%20in-nbviewer-orange\" alt=\"View in NBViewer\" title=\"View in NBViewer\"></a><a href=\"https://raw.githubusercontent.com/episiming/episiming/master/notebooks/01.03-Atributos_de_idade_e_infectividade.ipynb\" target=\"_blank\"><img align=\"left\" src=\"https://img.shields.io/badge/download-notebook-9cf\" alt=\"Download Notebook\" title=\"Download Notebook\"></a>&nbsp;"
   ]
  },
  {
   "cell_type": "markdown",
   "metadata": {
    "slideshow": {
     "slide_type": "skip"
    }
   },
   "source": [
    "<!--NAVIGATOR-->\n",
    "[<- Construção dos atributos de localização](01.02-Atributos_de_localizacao.ipynb) | [Página Inicial](00.00-Pagina_Inicial.ipynb) \n",
    "\n",
    "---\n"
   ]
  },
  {
   "cell_type": "markdown",
   "metadata": {
    "slideshow": {
     "slide_type": "slide"
    }
   },
   "source": [
    "# Construção do atributo de idade\n",
    "\n",
    "- Vamos ver, agora, como construir o atributo **idade**.\n",
    "\n",
    "- A construção deve levar em conta \n",
    "\n",
    "    - a **pirâmide etária** da região.\n",
    "\n",
    "    - restrições quanto à **distribuição etária em função do tamanho da reisidência**."
   ]
  },
  {
   "cell_type": "code",
   "execution_count": 1,
   "metadata": {
    "slideshow": {
     "slide_type": "skip"
    }
   },
   "outputs": [],
   "source": [
    "import datetime\n",
    "\n",
    "import os, sys\n",
    "\n",
    "import yaml\n",
    "\n",
    "import math\n",
    "\n",
    "import random\n",
    "\n",
    "import numpy as np\n",
    "from scipy import stats\n",
    "from scipy.interpolate import interp2d\n",
    "\n",
    "import pandas as pd\n",
    "\n",
    "import matplotlib.pyplot as plt\n",
    "import seaborn as sns\n",
    "\n",
    "import io, base64\n",
    "from IPython.display import Image, HTML"
   ]
  },
  {
   "cell_type": "code",
   "execution_count": 2,
   "metadata": {
    "slideshow": {
     "slide_type": "skip"
    }
   },
   "outputs": [],
   "source": [
    "sys.path.insert(0, os.path.abspath(os.path.join(os.getcwd(), '..')))\n",
    "import episiming"
   ]
  },
  {
   "cell_type": "code",
   "execution_count": 3,
   "metadata": {
    "slideshow": {
     "slide_type": "skip"
    }
   },
   "outputs": [],
   "source": [
    "sns.set_style(\"darkgrid\")"
   ]
  },
  {
   "cell_type": "code",
   "execution_count": 4,
   "metadata": {
    "slideshow": {
     "slide_type": "skip"
    }
   },
   "outputs": [
    {
     "name": "stdout",
     "output_type": "stream",
     "text": [
      "Atualização mais recente do kernel: 20/Jul/2020\n"
     ]
    }
   ],
   "source": [
    "dt_string = datetime.datetime.now().strftime(\"%d/%b/%Y\")\n",
    "print(f\"Atualização mais recente do kernel: {dt_string}\")"
   ]
  },
  {
   "cell_type": "markdown",
   "metadata": {
    "slideshow": {
     "slide_type": "slide"
    }
   },
   "source": [
    "## Representação dos indivíduos\n",
    "\n",
    "- Para cada **índice** $i=1, \\ldots, N$ representando os indivíduos de uma população de $N$ indivíduos, queremos definir\n",
    "\n",
    "    - A **idade** $a_i$ do indivíduo $i$.\n",
    "\n",
    "\n",
    "- Para a definição das **idades**:\n",
    "\n",
    "    - Usamos a **pirâmide etária** do Rio de Janeiro.\n",
    "    \n",
    "    - Usamos certas condições nas idades dependendo do **tamanho da residência** em que habitam."
   ]
  },
  {
   "cell_type": "markdown",
   "metadata": {},
   "source": [
    "## Interpolando a pirâmide etária\n",
    "\n",
    "- Para a definição das idades, precisamos das informações da **pirâmide etária da cidade**.\n",
    "\n",
    "- Essas pirâmides geralmente não são informadas ano-a-ano, mas em **grupos de idades**.\n",
    "\n",
    "- Assim, **interpolamos** essa pirâmide em grupos para obter uma pirâmide **ano a ano**.\n",
    "\n",
    "- Como o último grupo de idades é \"aberto a direita\", ou seja, não é de um ano a outro, mas, sim, a partir de um determinado ano, precisamos delimitar com uma **idade máxima**."
   ]
  },
  {
   "cell_type": "code",
   "execution_count": 5,
   "metadata": {},
   "outputs": [],
   "source": [
    "def get_age_fractions(age_groups, age_group_fractions, age_max=100, interp='linear'):\n",
    "    '''\n",
    "    Interpolates the population pyramid.\n",
    "    \n",
    "    Population pyramids are usually available in group ages, gathering\n",
    "    a number of years in each group. This function reads the group ages,\n",
    "    their population fractions and a maximum desired age and interpolates \n",
    "    the data to output a pyramid with data for every year.\n",
    "    \n",
    "    The interpolation can be either 'constant' by parts or 'linear' by parts.\n",
    "    \n",
    "    Input:\n",
    "    ------\n",
    "        age_groups: list of int\n",
    "            Each element of the list indicates the first age year in the group.\n",
    "            \n",
    "        age_group_fractions: list of float\n",
    "            Each element i of the list is expected to be a float \n",
    "            between 0 and 1, indicating the faction of the population\n",
    "            in the age group from age_groups[i] to age_groups[i+1], if\n",
    "            i is not the last index, or from age_groups[i] to age_max, \n",
    "            if i is the last index\n",
    "            \n",
    "        age_max: int\n",
    "            The maximum age for the output pyramid\n",
    "            \n",
    "        interp: str\n",
    "            The type of interpolation, which can be either piecewise \n",
    "            'constant' (default) or piecewise 'linear'.\n",
    "    \n",
    "    Output:\n",
    "    -------\n",
    "        age_fractions: list of float\n",
    "            Each element age_fractions[i] of the list indicates the\n",
    "            fraction of the population at age i.\n",
    "    '''\n",
    "    \n",
    "    # interpola/extrapola pirâmide populacional\n",
    "    age_fractions = list()\n",
    "    \n",
    "    if interp == 'linear':\n",
    "        for j in range(len(age_groups)-1):\n",
    "            age_fractions += (age_groups[j+1] - age_groups[j]) \\\n",
    "                * [age_group_fractions[j]/(age_groups[j+1]-age_groups[j])]\n",
    "        age_fractions += (age_max - age_groups[-1]) \\\n",
    "            * [age_group_fractions[-1]/(age_max-age_groups[-1])]\n",
    "    elif interp == 'constant':\n",
    "        for j in range(len(age_groups)-1):\n",
    "            age_fractions += (age_groups[j+1] - age_groups[j]) \\\n",
    "                * [age_group_fractions[j]/(age_groups[j+1]-age_groups[j])]\n",
    "        age_fractions += (age_max - age_groups[-1]) \\\n",
    "            * [age_group_fractions[-1]/(age_max-age_groups[-1])]\n",
    "    else:\n",
    "        raise ValueError(\"Argument 'interp' should be either 'linear' or 'constant'.\")\n",
    "    \n",
    "#    age_fractions = np.array(age_fractions)\n",
    "\n",
    "    return age_fractions"
   ]
  },
  {
   "cell_type": "code",
   "execution_count": 6,
   "metadata": {},
   "outputs": [
    {
     "data": {
      "text/html": [
       "<div>\n",
       "<style scoped>\n",
       "    .dataframe tbody tr th:only-of-type {\n",
       "        vertical-align: middle;\n",
       "    }\n",
       "\n",
       "    .dataframe tbody tr th {\n",
       "        vertical-align: top;\n",
       "    }\n",
       "\n",
       "    .dataframe thead th {\n",
       "        text-align: right;\n",
       "    }\n",
       "</style>\n",
       "<table border=\"1\" class=\"dataframe\">\n",
       "  <thead>\n",
       "    <tr style=\"text-align: right;\">\n",
       "      <th></th>\n",
       "      <th>total</th>\n",
       "      <th>0</th>\n",
       "      <th>1</th>\n",
       "      <th>2</th>\n",
       "      <th>3</th>\n",
       "      <th>4</th>\n",
       "      <th>5</th>\n",
       "      <th>6</th>\n",
       "      <th>7</th>\n",
       "      <th>8</th>\n",
       "      <th>...</th>\n",
       "      <th>55 a 59</th>\n",
       "      <th>60 a 64</th>\n",
       "      <th>65 a 69</th>\n",
       "      <th>70 a 74</th>\n",
       "      <th>75 a 79</th>\n",
       "      <th>80 a 84</th>\n",
       "      <th>85 a 89</th>\n",
       "      <th>90 a 94</th>\n",
       "      <th>95 a 99</th>\n",
       "      <th>100</th>\n",
       "    </tr>\n",
       "  </thead>\n",
       "  <tbody>\n",
       "    <tr>\n",
       "      <th>0</th>\n",
       "      <td>6320446</td>\n",
       "      <td>72828</td>\n",
       "      <td>72657</td>\n",
       "      <td>71632</td>\n",
       "      <td>72365</td>\n",
       "      <td>74550</td>\n",
       "      <td>77218</td>\n",
       "      <td>76536</td>\n",
       "      <td>77789</td>\n",
       "      <td>78054</td>\n",
       "      <td>...</td>\n",
       "      <td>349675</td>\n",
       "      <td>279122</td>\n",
       "      <td>206203</td>\n",
       "      <td>170853</td>\n",
       "      <td>129430</td>\n",
       "      <td>90230</td>\n",
       "      <td>43786</td>\n",
       "      <td>16205</td>\n",
       "      <td>4259</td>\n",
       "      <td>763</td>\n",
       "    </tr>\n",
       "  </tbody>\n",
       "</table>\n",
       "<p>1 rows × 42 columns</p>\n",
       "</div>"
      ],
      "text/plain": [
       "     total      0      1      2      3      4      5      6      7      8  \\\n",
       "0  6320446  72828  72657  71632  72365  74550  77218  76536  77789  78054   \n",
       "\n",
       "   ...  55 a 59  60 a 64  65 a 69  70 a 74  75 a 79  80 a 84  85 a 89  \\\n",
       "0  ...   349675   279122   206203   170853   129430    90230    43786   \n",
       "\n",
       "   90 a 94  95 a 99  100   \n",
       "0    16205     4259   763  \n",
       "\n",
       "[1 rows x 42 columns]"
      ]
     },
     "execution_count": 6,
     "metadata": {},
     "output_type": "execute_result"
    }
   ],
   "source": [
    "population_pyramid_file \\\n",
    "    = os.path.join('..',\n",
    "                   'input',\n",
    "                   'dados_rio',\n",
    "                   'piramide_etaria_MRJ.csv')\n",
    "\n",
    "population_pyramid = pd.read_csv(population_pyramid_file)\n",
    "\n",
    "population_pyramid"
   ]
  },
  {
   "cell_type": "code",
   "execution_count": 7,
   "metadata": {},
   "outputs": [],
   "source": [
    "age_groups = np.array([int(p[0:3])\n",
    "                       for p in population_pyramid.columns[1:]])\n",
    "\n",
    "age_group_fractions \\\n",
    "    = population_pyramid.iloc[0][1:].values/population_pyramid.iloc[0][0]\n",
    "\n",
    "age_max = 110\n",
    "\n",
    "age_fractions \\\n",
    "    = get_age_fractions(age_groups,\n",
    "                        age_group_fractions,\n",
    "                        age_max\n",
    "                       )"
   ]
  },
  {
   "cell_type": "code",
   "execution_count": 8,
   "metadata": {},
   "outputs": [
    {
     "data": {
      "image/png": "[encoded data removed]",
      "text/plain": [
       "<Figure size 864x360 with 1 Axes>"
      ]
     },
     "metadata": {},
     "output_type": "display_data"
    }
   ],
   "source": [
    "plt.figure(figsize=(12,5))\n",
    "#plt.hist(pop_idades, bins = list(range(idade_max+1)), color='tab:orange', label='pirâmide obtida')\n",
    "#plt.step(list(range(1, age_max+1)), age_fractions, label='pirâmide segundo censo')\n",
    "plt.bar(list(range(1, age_max+1)), age_fractions, label='pirâmide segundo censo')\n",
    "plt.xlabel('idade', fontsize=14)\n",
    "plt.ylabel('população', fontsize=14)\n",
    "plt.title(f'Pirâmide populacional do município do Rio de Janeiro', fontsize=16)\n",
    "plt.legend(fontsize=12)\n",
    "plt.show()"
   ]
  },
  {
   "cell_type": "code",
   "execution_count": 24,
   "metadata": {},
   "outputs": [],
   "source": [
    "rio = episiming.scenes.RiodeJaneiro(1/1)"
   ]
  },
  {
   "cell_type": "code",
   "execution_count": 30,
   "metadata": {},
   "outputs": [
    {
     "name": "stdout",
     "output_type": "stream",
     "text": [
      "CPU times: user 2.04 s, sys: 44.4 ms, total: 2.09 s\n",
      "Wall time: 2.19 s\n"
     ]
    }
   ],
   "source": [
    "%%time\n",
    "res = (len(rio.res_sizes_dens) +1)*[[]]\n",
    "for j in range(1,len(rio.res_sizes_dens)+1):\n",
    "    # seleciona residências com j indivíduos (res[0]=[])\n",
    "    res[j] = [r for r in rio.res_pop if len(r) == j]"
   ]
  },
  {
   "cell_type": "code",
   "execution_count": 32,
   "metadata": {},
   "outputs": [
    {
     "data": {
      "text/plain": [
       "[[5, 6],\n",
       " [29, 30],\n",
       " [36, 37],\n",
       " [69, 70],\n",
       " [75, 76],\n",
       " [77, 78],\n",
       " [79, 80],\n",
       " [97, 98],\n",
       " [150, 151],\n",
       " [231, 232]]"
      ]
     },
     "execution_count": 32,
     "metadata": {},
     "output_type": "execute_result"
    }
   ],
   "source": [
    "res[2][:10]"
   ]
  },
  {
   "cell_type": "code",
   "execution_count": null,
   "metadata": {},
   "outputs": [],
   "source": [
    "%%time\n",
    "res = (len(rio.res_sizes_dens) +1)*[[]]\n",
    "for j in range(1,len(rio.res_sizes_dens)+1):\n",
    "    # seleciona residências com j indivíduos (res[0]=[])\n",
    "    res[j] = [r for r in rio.res_pop if len(r) == j]"
   ]
  },
  {
   "cell_type": "code",
   "execution_count": 28,
   "metadata": {},
   "outputs": [
    {
     "data": {
      "text/plain": [
       "[4, 1, 2, 4, 4, 4, 7, 3, 2, 1]"
      ]
     },
     "execution_count": 28,
     "metadata": {},
     "output_type": "execute_result"
    }
   ],
   "source": [
    "rio.res_tam[:10]"
   ]
  },
  {
   "cell_type": "code",
   "execution_count": 29,
   "metadata": {},
   "outputs": [
    {
     "data": {
      "text/plain": [
       "[[0, 1, 2, 3],\n",
       " [4],\n",
       " [5, 6],\n",
       " [7, 8, 9, 10],\n",
       " [11, 12, 13, 14],\n",
       " [15, 16, 17, 18],\n",
       " [19, 20, 21, 22, 23, 24, 25],\n",
       " [26, 27, 28],\n",
       " [29, 30],\n",
       " [31]]"
      ]
     },
     "execution_count": 29,
     "metadata": {},
     "output_type": "execute_result"
    }
   ],
   "source": [
    "rio.res_pop[:10]"
   ]
  },
  {
   "cell_type": "code",
   "execution_count": 10,
   "metadata": {},
   "outputs": [],
   "source": [
    "def gera_idades(num_pop, num_tam_res, res_individuos, idades_fracoes):\n",
    "\n",
    "    # separa as residências por tamanho\n",
    "    res = (num_tam_res+1)*[[]]\n",
    "    for j in range(1,num_tam_res+1):\n",
    "        # seleciona residências com j indivíduos (res[0]=[])\n",
    "        res[j] = [r for r in res_individuos if len(r) == j]\n",
    "    # separa as residências com um adulto e um menor:\n",
    "    res_2b = random.sample(res[2], k=int(0.1*len(res[2])))\n",
    "    # separa as residências com dois adultos:\n",
    "    res_2a = [r for r in res[2] if r not in res_2b]\n",
    "    # agrega as residências com três ou mais indivíduos:\n",
    "    res_3mais = []\n",
    "    for res_k in res[3:]:\n",
    "        res_3mais += res_k\n",
    "\n",
    "    # separa a pirâmide populacional\n",
    "    idades = list(range(len(idades_fracoes)))\n",
    "\n",
    "    distrib_idades_adultos = num_pop*idades_fracoes\n",
    "    distrib_idades_adultos[:20] = 0\n",
    "\n",
    "    distrib_idades_menores = num_pop*idades_fracoes\n",
    "    distrib_idades_menores[20:] = 0\n",
    "\n",
    "    # inicializa lista de idades\n",
    "    pop_idades = np.zeros(num_pop).astype(int)\n",
    "\n",
    "    # define a idade dos adultos morando sozinhos\n",
    "    ind_idades = random.choices(idades, distrib_idades_adultos, k=len(res[1]))\n",
    "    for j in range(len(res[1])):\n",
    "        pop_idades[res[1][j]] = ind_idades[j]\n",
    "        distrib_idades_adultos[ind_idades[j]] -= 1\n",
    "\n",
    "    # define a idade do único adulto em residências com um adulto e um menor\n",
    "    ind_idades = random.choices(idades, distrib_idades_adultos, k=len(res_2b))\n",
    "    for j in range(len(res_2b)):\n",
    "        pop_idades[res_2b[j][0]] = ind_idades[j]\n",
    "        distrib_idades_adultos[ind_idades[j]] -= 1\n",
    "\n",
    "    # define a idade de dois adultos nas outras residências com dois \n",
    "    # indivíduos\n",
    "    len_res_2a = len(res_2a)\n",
    "    ind_idades = random.choices(idades, distrib_idades_adultos,\n",
    "                                k=2*len_res_2a)\n",
    "    for j in range(len_res_2a):\n",
    "        pop_idades[res_2a[j][0]] = ind_idades[j]\n",
    "        pop_idades[res_2a[j][1]] = ind_idades[len_res_2a + j]\n",
    "        distrib_idades_adultos[ind_idades[j]] -= 1\n",
    "        distrib_idades_adultos[ind_idades[len_res_2a + j]] -= 1\n",
    "\n",
    "    # define a idade de dois adultos nas residências com três ou mais \n",
    "    # indivíduos\n",
    "    len_res_3mais = len(res_3mais)\n",
    "    ind_idades = random.choices(idades, distrib_idades_adultos,\n",
    "                                k=2*len_res_3mais)\n",
    "    for j in range(len_res_3mais):\n",
    "        pop_idades[res_3mais[j][0]] = ind_idades[j]\n",
    "        pop_idades[res_3mais[j][1]] = ind_idades[len_res_3mais + j]\n",
    "        distrib_idades_adultos[ind_idades[j]] -= 1\n",
    "        distrib_idades_adultos[ind_idades[len_res_3mais + j]] -= 1\n",
    "\n",
    "    # define a idade dos menores de idade em residências com um adulto \n",
    "    # e um menor\n",
    "    len_res_2b = len(res_2b)\n",
    "    ind_idades = random.choices(idades, distrib_idades_menores, k=len_res_2b)\n",
    "    for j in range(len_res_2b):\n",
    "        pop_idades[res_2b[j][1]] = ind_idades[j]\n",
    "        distrib_idades_menores[ind_idades[j]] -= 1\n",
    "    \n",
    "    # calcula a distribuição restante de idades\n",
    "    distrib_idades_left = np.array(\n",
    "        [distrib_idades_menores[j] + distrib_idades_adultos[j] \n",
    "        for j in range(len(idades_fracoes))]\n",
    "        )\n",
    "\n",
    "    # define a idade do restante dos invidívuos em residências de três \n",
    "    # ou mais indivíduos\n",
    "    for k in range(3,num_tam_res+1):\n",
    "        ind_idades = random.choices(idades, distrib_idades_left,\n",
    "                                    k=(k-2)*len(res[k]))\n",
    "        for j in range(len(res[k])):\n",
    "            for l in range(2, k):\n",
    "                pop_idades[res[k][j][l]] = ind_idades[(l-2)*len(res[k]) + j]\n",
    "                distrib_idades_left[ind_idades[(l-2)*len(res[k]) + j]] -= 1\n",
    "\n",
    "    return pop_idades"
   ]
  },
  {
   "cell_type": "code",
   "execution_count": 20,
   "metadata": {},
   "outputs": [
    {
     "ename": "TypeError",
     "evalue": "can only assign an iterable",
     "output_type": "error",
     "traceback": [
      "\u001b[0;31m---------------------------------------------------------------------------\u001b[0m",
      "\u001b[0;31mTypeError\u001b[0m                                 Traceback (most recent call last)",
      "\u001b[0;32m<ipython-input-20-0bff8ebd5468>\u001b[0m in \u001b[0;36m<module>\u001b[0;34m\u001b[0m\n\u001b[0;32m----> 1\u001b[0;31m self.pop_idades = gera_idades(\n\u001b[0m\u001b[1;32m      2\u001b[0m     \u001b[0mrio\u001b[0m\u001b[0;34m.\u001b[0m\u001b[0mnum_pop\u001b[0m\u001b[0;34m,\u001b[0m \u001b[0mlen\u001b[0m\u001b[0;34m(\u001b[0m\u001b[0mrio\u001b[0m\u001b[0;34m.\u001b[0m\u001b[0mres_sizes_dens\u001b[0m\u001b[0;34m)\u001b[0m\u001b[0;34m,\u001b[0m\u001b[0;34m\u001b[0m\u001b[0;34m\u001b[0m\u001b[0m\n\u001b[1;32m      3\u001b[0m     rio.res_pop, age_fractions)\n",
      "\u001b[0;32m<ipython-input-10-6331bd3945d1>\u001b[0m in \u001b[0;36mgera_idades\u001b[0;34m(num_pop, num_tam_res, res_individuos, idades_fracoes)\u001b[0m\n\u001b[1;32m     19\u001b[0m \u001b[0;34m\u001b[0m\u001b[0m\n\u001b[1;32m     20\u001b[0m     \u001b[0mdistrib_idades_adultos\u001b[0m \u001b[0;34m=\u001b[0m \u001b[0mnum_pop\u001b[0m\u001b[0;34m*\u001b[0m\u001b[0midades_fracoes\u001b[0m\u001b[0;34m\u001b[0m\u001b[0;34m\u001b[0m\u001b[0m\n\u001b[0;32m---> 21\u001b[0;31m     \u001b[0mdistrib_idades_adultos\u001b[0m\u001b[0;34m[\u001b[0m\u001b[0;34m:\u001b[0m\u001b[0;36m20\u001b[0m\u001b[0;34m]\u001b[0m \u001b[0;34m=\u001b[0m \u001b[0;36m0\u001b[0m\u001b[0;34m\u001b[0m\u001b[0;34m\u001b[0m\u001b[0m\n\u001b[0m\u001b[1;32m     22\u001b[0m \u001b[0;34m\u001b[0m\u001b[0m\n\u001b[1;32m     23\u001b[0m     \u001b[0mdistrib_idades_menores\u001b[0m \u001b[0;34m=\u001b[0m \u001b[0mnum_pop\u001b[0m\u001b[0;34m*\u001b[0m\u001b[0midades_fracoes\u001b[0m\u001b[0;34m\u001b[0m\u001b[0;34m\u001b[0m\u001b[0m\n",
      "\u001b[0;31mTypeError\u001b[0m: can only assign an iterable"
     ]
    }
   ],
   "source": [
    "self.pop_idades = gera_idades(\n",
    "    rio.num_pop, len(rio.res_sizes_dens),\n",
    "    rio.res_pop, age_fractions)"
   ]
  },
  {
   "cell_type": "code",
   "execution_count": 23,
   "metadata": {},
   "outputs": [
    {
     "name": "stdout",
     "output_type": "stream",
     "text": [
      "CPU times: user 2.89 ms, sys: 47 µs, total: 2.94 ms\n",
      "Wall time: 3.3 ms\n"
     ]
    }
   ],
   "source": []
  },
  {
   "cell_type": "markdown",
   "metadata": {
    "slideshow": {
     "slide_type": "slide"
    }
   },
   "source": [
    "## Referências\n",
    "\n",
    "- [DeGroot MH, Schervish MJ (2012), Probability and Statistics, 4th edition, Pearson Education, Inc.](https://www.pearson.com/us/higher-education/program/De-Groot-Probability-and-Statistics-4th-Edition/PGM146802.html)."
   ]
  },
  {
   "cell_type": "markdown",
   "metadata": {
    "slideshow": {
     "slide_type": "skip"
    }
   },
   "source": [
    "<!--NAVIGATOR-->\n",
    "\n",
    "---\n",
    "[<- Construção dos atributos de localização](01.02-Atributos_de_localizacao.ipynb) | [Página Inicial](00.00-Pagina_Inicial.ipynb) "
   ]
  }
 ],
 "metadata": {
  "kernelspec": {
   "display_name": "py38",
   "language": "python",
   "name": "py38"
  },
  "language_info": {
   "codemirror_mode": {
    "name": "ipython",
    "version": 3
   },
   "file_extension": ".py",
   "mimetype": "text/x-python",
   "name": "python",
   "nbconvert_exporter": "python",
   "pygments_lexer": "ipython3",
   "version": "3.8.1"
  }
 },
 "nbformat": 4,
 "nbformat_minor": 4
}
