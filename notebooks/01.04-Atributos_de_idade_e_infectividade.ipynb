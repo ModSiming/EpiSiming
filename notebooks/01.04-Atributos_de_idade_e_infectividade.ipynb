{
 "cells": [
  {
   "cell_type": "markdown",
   "metadata": {
    "slideshow": {
     "slide_type": "skip"
    }
   },
   "source": [
    "<!--HEADER-->\n",
    "*Documentation for the EpiSiming epidemic simulation package*"
   ]
  },
  {
   "cell_type": "markdown",
   "metadata": {
    "slideshow": {
     "slide_type": "skip"
    }
   },
   "source": [
    "<!--BADGES-->\n",
    "<a href=\"https://colab.research.google.com/github/episiming/epsiming/blob/master/notebooks/01.04-Atributos_de_idade_e_infectividade.ipynb\" target=\"_blank\"><img align=\"left\" src=\"https://colab.research.google.com/assets/colab-badge.svg\" alt=\"Open in Google Colab\" title=\"Open in Google Colab\"></a><a href=\"https://mybinder.org/v2/gh/episiming/episiming/master?filepath=notebooks/01.04-Atributos_de_idade_e_infectividade.ipynb\" target=\"_blank\"><img align=\"left\" src=\"https://mybinder.org/badge.svg\" alt=\"Open in Binder\" title=\"Open in Binder\"></a><a href=\"https://nbviewer.jupyter.org/github/episiming/episiming/blob/master/notebooks/01.04-Atributos_de_idade_e_infectividade.ipynb\" target=\"_blank\"><img align=\"left\" src=\"https://img.shields.io/badge/view%20in-nbviewer-orange\" alt=\"View in NBViewer\" title=\"View in NBViewer\"></a><a href=\"https://raw.githubusercontent.com/episiming/episiming/master/notebooks/01.04-Atributos_de_idade_e_infectividade.ipynb\" target=\"_blank\"><img align=\"left\" src=\"https://img.shields.io/badge/download-notebook-9cf\" alt=\"Download Notebook\" title=\"Download Notebook\"></a>&nbsp;"
   ]
  },
  {
   "cell_type": "markdown",
   "metadata": {
    "slideshow": {
     "slide_type": "skip"
    }
   },
   "source": [
    "<!--NAVIGATOR-->\n",
    "[<- Construção dos atributos de localização](01.03-Atributos_de_localizacao.ipynb) | [Página Inicial](00.00-Pagina_Inicial.ipynb) | [Construção dos atributos de idade e infectividade potencial relativa dos indivíduos ->](01.05-Atributos_de_susceptibilidade_e_infectividade.ipynb)\n",
    "\n",
    "---\n"
   ]
  },
  {
   "cell_type": "markdown",
   "metadata": {
    "slideshow": {
     "slide_type": "slide"
    }
   },
   "source": [
    "# Construção do atributo de idade\n",
    "\n",
    "- Vamos ver, agora, como construir o atributo **idade**.\n",
    "\n",
    "- A construção deve levar em conta \n",
    "\n",
    "    - a **pirâmide etária** da região.\n",
    "\n",
    "    - restrições quanto à **distribuição etária em função do tamanho da reisidência**."
   ]
  },
  {
   "cell_type": "code",
   "execution_count": 1,
   "metadata": {
    "slideshow": {
     "slide_type": "skip"
    }
   },
   "outputs": [],
   "source": [
    "import datetime\n",
    "\n",
    "import os, sys\n",
    "\n",
    "import yaml\n",
    "\n",
    "import math\n",
    "\n",
    "import random\n",
    "\n",
    "import numpy as np\n",
    "from scipy import stats\n",
    "from scipy.interpolate import interp2d\n",
    "\n",
    "import pandas as pd\n",
    "\n",
    "import matplotlib.pyplot as plt\n",
    "import seaborn as sns\n",
    "\n",
    "import io, base64\n",
    "from IPython.display import Image, HTML"
   ]
  },
  {
   "cell_type": "code",
   "execution_count": 2,
   "metadata": {
    "slideshow": {
     "slide_type": "skip"
    }
   },
   "outputs": [
    {
     "name": "stdout",
     "output_type": "stream",
     "text": [
      "/home/gil/repos/episiming\n"
     ]
    }
   ],
   "source": [
    "%cd ..\n",
    "import episiming"
   ]
  },
  {
   "cell_type": "code",
   "execution_count": 3,
   "metadata": {
    "slideshow": {
     "slide_type": "skip"
    }
   },
   "outputs": [],
   "source": [
    "sns.set_style(\"darkgrid\")"
   ]
  },
  {
   "cell_type": "code",
   "execution_count": 4,
   "metadata": {
    "slideshow": {
     "slide_type": "skip"
    }
   },
   "outputs": [
    {
     "name": "stdout",
     "output_type": "stream",
     "text": [
      "Atualização mais recente do kernel: 13/Oct/2020\n"
     ]
    }
   ],
   "source": [
    "dt_string = datetime.datetime.now().strftime(\"%d/%b/%Y\")\n",
    "print(f\"Atualização mais recente do kernel: {dt_string}\")"
   ]
  },
  {
   "cell_type": "markdown",
   "metadata": {
    "slideshow": {
     "slide_type": "slide"
    }
   },
   "source": [
    "## Representação dos indivíduos\n",
    "\n",
    "- Para cada **índice** $i=1, \\ldots, N$ representando os indivíduos de uma população de $N$ indivíduos, queremos definir\n",
    "\n",
    "    - A **idade** $a_i$ do indivíduo $i$.\n",
    "\n",
    "\n",
    "- Para a definição das **idades**:\n",
    "\n",
    "    - Usamos a **pirâmide etária** do Rio de Janeiro.\n",
    "    \n",
    "    - Usamos certas condições nas idades dependendo do **tamanho da residência** em que habitam."
   ]
  },
  {
   "cell_type": "markdown",
   "metadata": {},
   "source": [
    "## Interpolando a pirâmide etária\n",
    "\n",
    "- Para a definição das idades, precisamos das informações da **pirâmide etária da cidade**.\n",
    "\n",
    "- Essas pirâmides geralmente não são informadas ano-a-ano, mas em **grupos de idades**.\n",
    "\n",
    "- Assim, **interpolamos** essa pirâmide em grupos para obter uma pirâmide **ano a ano**.\n",
    "\n",
    "- Como o último grupo de idades é \"aberto a direita\", ou seja, não é de um ano a outro, mas, sim, a partir de um determinado ano, precisamos delimitar com uma **idade máxima**."
   ]
  },
  {
   "cell_type": "code",
   "execution_count": 5,
   "metadata": {},
   "outputs": [],
   "source": [
    "def get_age_fractions(age_groups, age_group_fractions, age_max=100, interp='linear'):\n",
    "    '''\n",
    "    Interpolates the population pyramid.\n",
    "    \n",
    "    Population pyramids are usually available in group ages, gathering\n",
    "    a number of years in each group. This function reads the group ages,\n",
    "    their population fractions and a maximum desired age and interpolates \n",
    "    the data to output a pyramid with data for every year.\n",
    "    \n",
    "    The interpolation can be either 'constant' by parts or 'linear' by parts.\n",
    "    \n",
    "    Input:\n",
    "    ------\n",
    "        age_groups: list of int\n",
    "            Each element of the list indicates the first age year in the group.\n",
    "            \n",
    "        age_group_fractions: list of float\n",
    "            Each element i of the list is expected to be a float \n",
    "            between 0 and 1, indicating the faction of the population\n",
    "            in the age group from age_groups[i] to age_groups[i+1], if\n",
    "            i is not the last index, or from age_groups[i] to age_max, \n",
    "            if i is the last index\n",
    "            \n",
    "        age_max: int\n",
    "            The maximum age for the output pyramid\n",
    "            \n",
    "        interp: str\n",
    "            The type of interpolation, which can be either piecewise \n",
    "            'constant' (default) or piecewise 'linear'.\n",
    "    \n",
    "    Output:\n",
    "    -------\n",
    "        age_fractions: list of float\n",
    "            Each element age_fractions[i] of the list indicates the\n",
    "            fraction of the population at age i.\n",
    "    '''\n",
    "    \n",
    "    # interpola/extrapola pirâmide populacional\n",
    "    age_fractions = list()\n",
    "    \n",
    "    if interp == 'linear':\n",
    "        for j in range(len(age_groups)-1):\n",
    "            age_fractions += (age_groups[j+1] - age_groups[j]) \\\n",
    "                * [age_group_fractions[j]/(age_groups[j+1]-age_groups[j])]\n",
    "        age_fractions += (age_max - age_groups[-1]) \\\n",
    "            * [age_group_fractions[-1]/(age_max-age_groups[-1])]\n",
    "    elif interp == 'constant':\n",
    "        for j in range(len(age_groups)-1):\n",
    "            age_fractions += (age_groups[j+1] - age_groups[j]) \\\n",
    "                * [age_group_fractions[j]/(age_groups[j+1]-age_groups[j])]\n",
    "        age_fractions += (age_max - age_groups[-1]) \\\n",
    "            * [age_group_fractions[-1]/(age_max-age_groups[-1])]\n",
    "    else:\n",
    "        raise ValueError(\"Argument 'interp' should be either 'linear' or 'constant'.\")\n",
    "    \n",
    "    age_fractions = np.array(age_fractions)\n",
    "\n",
    "    return age_fractions"
   ]
  },
  {
   "cell_type": "code",
   "execution_count": 6,
   "metadata": {},
   "outputs": [
    {
     "data": {
      "text/html": [
       "<div>\n",
       "<style scoped>\n",
       "    .dataframe tbody tr th:only-of-type {\n",
       "        vertical-align: middle;\n",
       "    }\n",
       "\n",
       "    .dataframe tbody tr th {\n",
       "        vertical-align: top;\n",
       "    }\n",
       "\n",
       "    .dataframe thead th {\n",
       "        text-align: right;\n",
       "    }\n",
       "</style>\n",
       "<table border=\"1\" class=\"dataframe\">\n",
       "  <thead>\n",
       "    <tr style=\"text-align: right;\">\n",
       "      <th></th>\n",
       "      <th>total</th>\n",
       "      <th>0</th>\n",
       "      <th>1</th>\n",
       "      <th>2</th>\n",
       "      <th>3</th>\n",
       "      <th>4</th>\n",
       "      <th>5</th>\n",
       "      <th>6</th>\n",
       "      <th>7</th>\n",
       "      <th>8</th>\n",
       "      <th>...</th>\n",
       "      <th>55 a 59</th>\n",
       "      <th>60 a 64</th>\n",
       "      <th>65 a 69</th>\n",
       "      <th>70 a 74</th>\n",
       "      <th>75 a 79</th>\n",
       "      <th>80 a 84</th>\n",
       "      <th>85 a 89</th>\n",
       "      <th>90 a 94</th>\n",
       "      <th>95 a 99</th>\n",
       "      <th>100</th>\n",
       "    </tr>\n",
       "  </thead>\n",
       "  <tbody>\n",
       "    <tr>\n",
       "      <th>0</th>\n",
       "      <td>6320446</td>\n",
       "      <td>72828</td>\n",
       "      <td>72657</td>\n",
       "      <td>71632</td>\n",
       "      <td>72365</td>\n",
       "      <td>74550</td>\n",
       "      <td>77218</td>\n",
       "      <td>76536</td>\n",
       "      <td>77789</td>\n",
       "      <td>78054</td>\n",
       "      <td>...</td>\n",
       "      <td>349675</td>\n",
       "      <td>279122</td>\n",
       "      <td>206203</td>\n",
       "      <td>170853</td>\n",
       "      <td>129430</td>\n",
       "      <td>90230</td>\n",
       "      <td>43786</td>\n",
       "      <td>16205</td>\n",
       "      <td>4259</td>\n",
       "      <td>763</td>\n",
       "    </tr>\n",
       "  </tbody>\n",
       "</table>\n",
       "<p>1 rows × 42 columns</p>\n",
       "</div>"
      ],
      "text/plain": [
       "     total      0      1      2      3      4      5      6      7      8  \\\n",
       "0  6320446  72828  72657  71632  72365  74550  77218  76536  77789  78054   \n",
       "\n",
       "   ...  55 a 59  60 a 64  65 a 69  70 a 74  75 a 79  80 a 84  85 a 89  \\\n",
       "0  ...   349675   279122   206203   170853   129430    90230    43786   \n",
       "\n",
       "   90 a 94  95 a 99  100   \n",
       "0    16205     4259   763  \n",
       "\n",
       "[1 rows x 42 columns]"
      ]
     },
     "execution_count": 6,
     "metadata": {},
     "output_type": "execute_result"
    }
   ],
   "source": [
    "population_pyramid_file \\\n",
    "    = os.path.join('input',\n",
    "                   'dados_rio',\n",
    "                   'piramide_etaria_MRJ.csv')\n",
    "\n",
    "population_pyramid = pd.read_csv(population_pyramid_file)\n",
    "\n",
    "population_pyramid"
   ]
  },
  {
   "cell_type": "code",
   "execution_count": 7,
   "metadata": {},
   "outputs": [],
   "source": [
    "age_groups = np.array([int(p[0:3])\n",
    "                       for p in population_pyramid.columns[1:]])\n",
    "\n",
    "age_group_fractions \\\n",
    "    = population_pyramid.iloc[0][1:].values/population_pyramid.iloc[0][0]\n",
    "\n",
    "age_max = 110\n",
    "\n",
    "age_fractions \\\n",
    "    = get_age_fractions(age_groups,\n",
    "                        age_group_fractions,\n",
    "                        age_max\n",
    "                       )"
   ]
  },
  {
   "cell_type": "code",
   "execution_count": 8,
   "metadata": {},
   "outputs": [
    {
     "data": {
      "image/png": "[encoded data removed]",
      "text/plain": [
       "<Figure size 864x360 with 1 Axes>"
      ]
     },
     "metadata": {},
     "output_type": "display_data"
    }
   ],
   "source": [
    "plt.figure(figsize=(12,5))\n",
    "#plt.hist(pop_idades, bins = list(range(idade_max+1)), color='tab:orange', label='pirâmide obtida')\n",
    "#plt.step(list(range(1, age_max+1)), age_fractions, label='pirâmide segundo censo')\n",
    "plt.bar(list(range(1, age_max+1)), age_fractions, label='pirâmide segundo censo')\n",
    "plt.xlabel('idade', fontsize=14)\n",
    "plt.ylabel('população', fontsize=14)\n",
    "plt.title(f'Pirâmide populacional do município do Rio de Janeiro', fontsize=16)\n",
    "plt.legend(fontsize=12)\n",
    "plt.show()"
   ]
  },
  {
   "cell_type": "markdown",
   "metadata": {},
   "source": [
    "## Geração das idades pelas residências\n",
    "Para a geração de idades dos indivíduos, além da pirâmide etária levaremos em conta também a distribuição das idades nas residências, desta forma definimos um limiar de idade ao qual consideraremos 'adulto', por exemplo `19 anos`, definimos uma sigmoide centrada nesta idade, de forma a termos alguns individuos menores de `19 anos`considerados, assim como indivíduos um pouco maiores dessa idade considerados como não adultos."
   ]
  },
  {
   "cell_type": "code",
   "execution_count": 9,
   "metadata": {},
   "outputs": [],
   "source": [
    "age_groups_interp = np.array(list(range(1, age_max+1)))\n",
    "age_range = [(np.tanh(i * (age_groups_interp - 19)) + 1) / 2 for i in [2/3, -2/3]]"
   ]
  },
  {
   "cell_type": "code",
   "execution_count": 10,
   "metadata": {},
   "outputs": [
    {
     "data": {
      "image/png": "[encoded data removed]",
      "text/plain": [
       "<Figure size 864x360 with 1 Axes>"
      ]
     },
     "metadata": {},
     "output_type": "display_data"
    }
   ],
   "source": [
    "plt.figure(figsize=(12,5))\n",
    "plt.plot(age_range[0], label = 'Probabilidade de ser adulto')\n",
    "plt.plot(age_range[1], label = 'Probabilide de ser não adulto')\n",
    "plt.legend()\n",
    "plt.xlabel('Idade')\n",
    "plt.ylabel('Probabilidade')\n",
    "plt.title('$tanh(x)$')\n",
    "plt.show()"
   ]
  },
  {
   "cell_type": "markdown",
   "metadata": {},
   "source": [
    "## Algoritmo para gerar as idades\n",
    "Com isso podemos seguir o seguinte algoritmo na geração das idades\n",
    "\n",
    "- São geradas as residências do cenário, assim como os individuos nas residências\n",
    "\n",
    "- Para todas as residências sorteamos para um dos moradores uma idade **adulta**, seguindo a pirâmide etária e a sigmoide\n",
    "\n",
    "- Para residências com **2** moradores, sorteamos com probabilidade **90%** e **10%** uma idade adulta ou não adulta para o segundo morador, seguindo a pirâmide etária e a sigmóide\n",
    "\n",
    "- Para residências com mais de **2** moradores, sorteamos baseado na pirâmide etária a idade dos outros moradores"
   ]
  },
  {
   "cell_type": "code",
   "execution_count": 11,
   "metadata": {},
   "outputs": [],
   "source": [
    "rio = episiming.scenes.RiodeJaneiro(1/20)"
   ]
  },
  {
   "cell_type": "code",
   "execution_count": 12,
   "metadata": {},
   "outputs": [
    {
     "name": "stdout",
     "output_type": "stream",
     "text": [
      "CPU times: user 65.4 ms, sys: 0 ns, total: 65.4 ms\n",
      "Wall time: 64.7 ms\n"
     ]
    }
   ],
   "source": [
    "%%time\n",
    "res = (len(rio.res_sizes_dens) +1)*[[]]\n",
    "for j in range(1,len(rio.res_sizes_dens)+1):\n",
    "    # seleciona residências com j indivíduos (res[0]=[])\n",
    "    res[j] = [r for r in rio.res_pop if len(r) == j]"
   ]
  },
  {
   "cell_type": "code",
   "execution_count": 13,
   "metadata": {},
   "outputs": [
    {
     "data": {
      "text/plain": [
       "[[7, 8],\n",
       " [10, 11],\n",
       " [12, 13],\n",
       " [18, 19],\n",
       " [26, 27],\n",
       " [39, 40],\n",
       " [41, 42],\n",
       " [47, 48],\n",
       " [49, 50],\n",
       " [51, 52]]"
      ]
     },
     "execution_count": 13,
     "metadata": {},
     "output_type": "execute_result"
    }
   ],
   "source": [
    "res[2][:10]"
   ]
  },
  {
   "cell_type": "code",
   "execution_count": 16,
   "metadata": {},
   "outputs": [
    {
     "name": "stdout",
     "output_type": "stream",
     "text": [
      "CPU times: user 69.1 ms, sys: 391 µs, total: 69.5 ms\n",
      "Wall time: 68 ms\n"
     ]
    }
   ],
   "source": [
    "%%time\n",
    "res = (len(rio.res_sizes_dens) +1)*[[]]\n",
    "for j in range(1,len(rio.res_sizes_dens)+1):\n",
    "    # seleciona residências com j indivíduos (res[0]=[])\n",
    "    res[j] = [r for r in rio.res_pop if len(r) == j]"
   ]
  },
  {
   "cell_type": "code",
   "execution_count": 17,
   "metadata": {},
   "outputs": [
    {
     "data": {
      "text/plain": [
       "[3, 4, 2, 1, 2, 2, 3, 1, 2, 1]"
      ]
     },
     "execution_count": 17,
     "metadata": {},
     "output_type": "execute_result"
    }
   ],
   "source": [
    "rio.res_size[:10]"
   ]
  },
  {
   "cell_type": "code",
   "execution_count": 18,
   "metadata": {},
   "outputs": [
    {
     "data": {
      "text/plain": [
       "[[0, 1, 2],\n",
       " [3, 4, 5, 6],\n",
       " [7, 8],\n",
       " [9],\n",
       " [10, 11],\n",
       " [12, 13],\n",
       " [14, 15, 16],\n",
       " [17],\n",
       " [18, 19],\n",
       " [20]]"
      ]
     },
     "execution_count": 18,
     "metadata": {},
     "output_type": "execute_result"
    }
   ],
   "source": [
    "rio.res_pop[:10]"
   ]
  },
  {
   "cell_type": "code",
   "execution_count": 19,
   "metadata": {},
   "outputs": [],
   "source": [
    "def weighted(l):\n",
    "    '''\n",
    "    Make a distribution out of a list or array.\n",
    "    \n",
    "    Given any data array or list, this function returns its distribution, or weights which sum to 1\n",
    "    \n",
    "    Input:\n",
    "    ------\n",
    "        l: list of float/int\n",
    "            List or Array of data to be made into a distribution\n",
    "    \n",
    "    Output:\n",
    "    -------\n",
    "        weighted: array of float/int\n",
    "            The same data as weighted array\n",
    "    '''\n",
    "    return np.array(l)/sum(np.array(l))"
   ]
  },
  {
   "cell_type": "code",
   "execution_count": 20,
   "metadata": {},
   "outputs": [],
   "source": [
    "def sample_from(weights, x):\n",
    "    '''\n",
    "    Draw a random sample from desired distribution using the uniform distribution,\n",
    "    this function mimics np.random.choice, but it's faster if we need to call it a lot of times\n",
    "    when it's not possible to vectorize.\n",
    "    \n",
    "    Input:\n",
    "    ------\n",
    "        weights: array of float\n",
    "            The weights of the distribution\n",
    "            \n",
    "        x: float\n",
    "            Sample previously drawn from uniform distribution, using np.random.rand()\n",
    "    \n",
    "    Output:\n",
    "    -------\n",
    "        weighted: int\n",
    "            Index of drawn sample from weights\n",
    "    '''\n",
    "    return (weights.cumsum() > x).argmax()"
   ]
  },
  {
   "cell_type": "code",
   "execution_count": 118,
   "metadata": {},
   "outputs": [],
   "source": [
    "def gen_pop_age(res, res_size, weights, age_groups, n_pop, adult_age = 19, two_res_prob = 0.9):\n",
    "    \"\"\"\n",
    "    Generates the age for the entire population, following a distribution\n",
    "\n",
    "    Each residence is guaranteed to have at least one adult individual.\n",
    "    For residences with two individuals, there's a slight chance that the second individual is not an adult\n",
    "    The age which separates an adult from a non-adult is given by a parameter, and a sigmoid function is built upon this age.\n",
    "    \n",
    "    Input:\n",
    "    ------\n",
    "        \n",
    "        res_pop: list\n",
    "            Nested list of residences with it's individuals\n",
    "            \n",
    "        res_size: list\n",
    "            List with sizes of residences\n",
    "\n",
    "        weights: array of floats\n",
    "            Age distribution/weights for the location, this array needs to sum to 1\n",
    "\n",
    "        age_groups: Array of int\n",
    "            Group of ages that the model will gather individuals\n",
    "        \n",
    "        n_pop: int\n",
    "            Total number of the population\n",
    "        \n",
    "        adult_age: float\n",
    "            The age which the model should separate an adult from a non-adult\n",
    "        \n",
    "        two_res_prob: float\n",
    "            Probability of a second individual on a two size residence is an adult\n",
    "\n",
    "    Output:\n",
    "    -------\n",
    "        ages: Array of int\n",
    "            An array with the size of the population,\n",
    "            each entry representing the age of the individual corresponding to the index on the array\n",
    "    \"\"\"\n",
    "    n_ages = len(weights)\n",
    "    ages = -1 * np.ones(n_pop, int)\n",
    "    max_people = np.ceil((n_pop * weights) / sum(weights))\n",
    "    aux = np.random.rand(n_pop)\n",
    "    age_range = [(np.tanh(i * (age_groups - adult_age)) + 1) / 2 for i in [2/3, -2/3]]\n",
    "    rng_ages = range(n_ages)\n",
    "    \n",
    "    ages_res_adults = np.random.choice(rng_ages, p = weighted(max_people*age_range[0]), size = len(res))\n",
    "    k_adults = 0\n",
    "    for i in res:\n",
    "        if len(i) > 0:\n",
    "            ages[i[0]] = ages_res_adults[k_adults]\n",
    "            max_people[ages[i[0]]] -= 1\n",
    "            k_adults += 1\n",
    "\n",
    "    max_people[max_people < 0] = 0\n",
    "    ages_res_two = np.random.choice(rng_ages, p = weighted(max_people * (age_range[1] if np.random.rand() > two_res_prob else age_range[0])), size = np.count_nonzero(res_size == 2))\n",
    "    k_two_size = 0   \n",
    "    for i in res:\n",
    "        if len(i) == 2:\n",
    "            ages[i[1]] = ages_res_two[k_two_size]\n",
    "            max_people[ages[i[1]]] -= 1\n",
    "            k_two_size +=1\n",
    "\n",
    "    max_people[max_people < 0] = 0\n",
    "    ages_res = np.random.choice(range(n_ages), p = weighted(max_people), size = np.count_nonzero(ages == -1))\n",
    "    j = 0    \n",
    "    for i in res:\n",
    "        if len(i) > 2:\n",
    "            ages[i[1:]] = ages_res[j:(j+len(i) -1)]\n",
    "            max_people[ages[i[1:]]] -= 1\n",
    "            j += len(i) -1\n",
    "    return ages"
   ]
  },
  {
   "cell_type": "code",
   "execution_count": 136,
   "metadata": {},
   "outputs": [
    {
     "name": "stdout",
     "output_type": "stream",
     "text": [
      "CPU times: user 452 ms, sys: 3.1 ms, total: 455 ms\n",
      "Wall time: 454 ms\n"
     ]
    }
   ],
   "source": [
    "%%time\n",
    "ages = gen_pop_age(rio.res_pop, np.array(rio.res_size), np.array(age_fractions), age_groups_interp, len(rio.pop_res))"
   ]
  },
  {
   "cell_type": "markdown",
   "metadata": {},
   "source": [
    "## Comparando a pirâmide etária com a geração de idades"
   ]
  },
  {
   "cell_type": "code",
   "execution_count": 137,
   "metadata": {
    "scrolled": true
   },
   "outputs": [
    {
     "data": {
      "image/png": "[encoded data removed]",
      "text/plain": [
       "<Figure size 1080x360 with 1 Axes>"
      ]
     },
     "metadata": {},
     "output_type": "display_data"
    }
   ],
   "source": [
    "plt.figure(figsize=(15,5))\n",
    "plt.plot(age_fractions, label = 'Pirâmide etária')\n",
    "ax = plt.hist(ages, density = True, bins = 110, label = 'Idades geradas')\n",
    "plt.ylabel('Proporção')\n",
    "plt.xlabel('Idade')\n",
    "plt.legend()\n",
    "plt.show()"
   ]
  },
  {
   "cell_type": "markdown",
   "metadata": {},
   "source": [
    "Verificando a distribuição de não adultos pelo tamanho das residências"
   ]
  },
  {
   "cell_type": "code",
   "execution_count": 138,
   "metadata": {},
   "outputs": [],
   "source": [
    "menores = np.arange(len(ages))[ages<=19]"
   ]
  },
  {
   "cell_type": "code",
   "execution_count": 139,
   "metadata": {},
   "outputs": [],
   "source": [
    "tam_menores = [len(rio.res_pop[rio.pop_res[m]]) for m in menores]"
   ]
  },
  {
   "cell_type": "code",
   "execution_count": 140,
   "metadata": {},
   "outputs": [
    {
     "data": {
      "image/png": "[encoded data removed]",
      "text/plain": [
       "<Figure size 432x288 with 1 Axes>"
      ]
     },
     "metadata": {},
     "output_type": "display_data"
    }
   ],
   "source": [
    "plt.hist(tam_menores, bins = 7)\n",
    "plt.show()"
   ]
  },
  {
   "cell_type": "markdown",
   "metadata": {
    "slideshow": {
     "slide_type": "slide"
    }
   },
   "source": [
    "## Referências\n",
    "\n",
    "- [DeGroot MH, Schervish MJ (2012), Probability and Statistics, 4th edition, Pearson Education, Inc.](https://www.pearson.com/us/higher-education/program/De-Groot-Probability-and-Statistics-4th-Edition/PGM146802.html)."
   ]
  },
  {
   "cell_type": "markdown",
   "metadata": {
    "slideshow": {
     "slide_type": "skip"
    }
   },
   "source": [
    "<!--NAVIGATOR-->\n",
    "\n",
    "---\n",
    "[<- Construção dos atributos de localização](01.03-Atributos_de_localizacao.ipynb) | [Página Inicial](00.00-Pagina_Inicial.ipynb) | [Construção dos atributos de idade e infectividade potencial relativa dos indivíduos ->](01.05-Atributos_de_susceptibilidade_e_infectividade.ipynb)"
   ]
  }
 ],
 "metadata": {
  "kernelspec": {
   "display_name": "Python 3.8.2 64-bit",
   "language": "python",
   "name": "python38264bit63cfc02778eb44a4905dacb230cf08de"
  },
  "language_info": {
   "codemirror_mode": {
    "name": "ipython",
    "version": 3
   },
   "file_extension": ".py",
   "mimetype": "text/x-python",
   "name": "python",
   "nbconvert_exporter": "python",
   "pygments_lexer": "ipython3",
   "version": "3.8.5"
  }
 },
 "nbformat": 4,
 "nbformat_minor": 4
}
