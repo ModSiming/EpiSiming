{
 "cells": [
  {
   "cell_type": "markdown",
   "metadata": {
    "slideshow": {
     "slide_type": "skip"
    }
   },
   "source": [
    "<!--HEADER-->\n",
    "*Documentation for the EpiSiming epidemic simulation package*"
   ]
  },
  {
   "cell_type": "markdown",
   "metadata": {
    "slideshow": {
     "slide_type": "skip"
    }
   },
   "source": [
    "<!--BADGES-->\n",
    "<a href=\"https://colab.research.google.com/github/episiming/epsiming/blob/master/notebooks/00.00-Pagina_Inicial.ipynb\" target=\"_blank\"><img align=\"left\" src=\"https://colab.research.google.com/assets/colab-badge.svg\" alt=\"Open in Google Colab\" title=\"Open in Google Colab\"></a><a href=\"https://mybinder.org/v2/gh/episiming/episiming/master?filepath=notebooks/00.00-Pagina_Inicial.ipynb\" target=\"_blank\"><img align=\"left\" src=\"https://mybinder.org/badge.svg\" alt=\"Open in Binder\" title=\"Open in Binder\"></a><a href=\"https://nbviewer.jupyter.org/github/episiming/episiming/blob/master/notebooks/00.00-Pagina_Inicial.ipynb\" target=\"_blank\"><img align=\"left\" src=\"https://img.shields.io/badge/view%20in-nbviewer-orange\" alt=\"View in NBViewer\" title=\"View in NBViewer\"></a><a href=\"https://raw.githubusercontent.com/episiming/episiming/master/notebooks/00.00-Pagina_Inicial.ipynb\" target=\"_blank\"><img align=\"left\" src=\"https://img.shields.io/badge/download-notebook-9cf\" alt=\"Download Notebook\" title=\"Download Notebook\"></a>&nbsp;"
   ]
  },
  {
   "cell_type": "markdown",
   "metadata": {
    "slideshow": {
     "slide_type": "skip"
    }
   },
   "source": [
    "<!--NAVIGATOR-->\n",
    "| [Página Inicial](00.00-Pagina_Inicial.ipynb) | [Modelo epidemiológico individual estocástico em tempos discretos ->](01.00-Modelo_epidemiologico_Individual_estocastico.ipynb)\n",
    "\n",
    "---\n"
   ]
  },
  {
   "cell_type": "markdown",
   "metadata": {
    "slideshow": {
     "slide_type": "slide"
    }
   },
   "source": [
    "# Página Inicial\n",
    "\n",
    "Abaixo o Sumário dos notebooks que compõem a descrição e a implementação dos modelos utilizados no pacote **EpiSiming** para a simulação de epidemias.\n",
    "\n",
    "O texto está disponível sob a [licença CC-BY-NC-ND](https://creativecommons.org/licenses/by-nc-nd/3.0/us/legalcode) e os códigos, sob a [licença GNU GPL Versão 3](https://www.gnu.org/licenses/gpl.html)."
   ]
  },
  {
   "cell_type": "markdown",
   "metadata": {
    "slideshow": {
     "slide_type": "slide"
    }
   },
   "source": [
    "<!--TABLE_OF_CONTENTS-->\n",
    "## [Sumário](#)\n",
    "\n",
    "### [Página Inicial](00.00-Pagina_Inicial.ipynb)\n",
    "\n",
    "### [1. Modelo epidemiológico individual estocástico em tempos discretos](01.00-Modelo_epidemiologico_Individual_estocastico.ipynb)\n",
    "\n",
    "&nbsp;&nbsp;&nbsp;&nbsp; [1.1. Descrição dos atributos dos indivíduos e das residências](01.01-Atributos_dos_individuos.ipynb)\n",
    "\n",
    "&nbsp;&nbsp;&nbsp;&nbsp; [1.2. A matriz populacional do LandScan](01.02-Matriz_populacional.ipynb)\n",
    "\n",
    "&nbsp;&nbsp;&nbsp;&nbsp; [1.3. Construção dos atributos de localização](01.03-Atributos_de_localizacao.ipynb)\n",
    "\n",
    "&nbsp;&nbsp;&nbsp;&nbsp; [1.4. Construção do atributo de idade](01.04-Atributos_de_idade_e_infectividade.ipynb)\n",
    "\n",
    "&nbsp;&nbsp;&nbsp;&nbsp; [1.5. Construção dos atributos de idade e infectividade potencial relativa dos indivíduos](01.05-Atributos_de_susceptibilidade_e_infectividade.ipynb)\n",
    "\n",
    "&nbsp;&nbsp;&nbsp;&nbsp; [1.6. Analisando o cenário](01.06-Cenario_completo.ipynb)\n",
    "\n"
   ]
  },
  {
   "cell_type": "markdown",
   "metadata": {
    "slideshow": {
     "slide_type": "skip"
    }
   },
   "source": [
    "<!--NAVIGATOR-->\n",
    "\n",
    "---\n",
    "| [Página Inicial](00.00-Pagina_Inicial.ipynb) | [Modelo epidemiológico individual estocástico em tempos discretos ->](01.00-Modelo_epidemiologico_Individual_estocastico.ipynb)"
   ]
  }
 ],
 "metadata": {
  "kernelspec": {
   "display_name": "Python 3",
   "language": "python",
   "name": "python3"
  },
  "language_info": {
   "codemirror_mode": {
    "name": "ipython",
    "version": 3
   },
   "file_extension": ".py",
   "mimetype": "text/x-python",
   "name": "python",
   "nbconvert_exporter": "python",
   "pygments_lexer": "ipython3",
   "version": "3.7.6"
  }
 },
 "nbformat": 4,
 "nbformat_minor": 4
}
