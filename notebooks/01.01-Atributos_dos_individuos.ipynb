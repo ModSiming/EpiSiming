{
 "cells": [
  {
   "cell_type": "markdown",
   "metadata": {
    "slideshow": {
     "slide_type": "skip"
    }
   },
   "source": [
    "<!--HEADER-->\n",
    "*Documentation for the EpiSiming epidemic simulation package*"
   ]
  },
  {
   "cell_type": "markdown",
   "metadata": {
    "slideshow": {
     "slide_type": "skip"
    }
   },
   "source": [
    "<!--BADGES-->\n",
    "<a href=\"https://colab.research.google.com/github/episiming/epsiming/blob/master/notebooks/01.01-Atributos_dos_individuos.ipynb\" target=\"_blank\"><img align=\"left\" src=\"https://colab.research.google.com/assets/colab-badge.svg\" alt=\"Open in Google Colab\" title=\"Open in Google Colab\"></a><a href=\"https://mybinder.org/v2/gh/episiming/episiming/master?filepath=notebooks/01.01-Atributos_dos_individuos.ipynb\" target=\"_blank\"><img align=\"left\" src=\"https://mybinder.org/badge.svg\" alt=\"Open in Binder\" title=\"Open in Binder\"></a><a href=\"https://nbviewer.jupyter.org/github/episiming/episiming/blob/master/notebooks/01.01-Atributos_dos_individuos.ipynb\" target=\"_blank\"><img align=\"left\" src=\"https://img.shields.io/badge/view%20in-nbviewer-orange\" alt=\"View in NBViewer\" title=\"View in NBViewer\"></a><a href=\"https://raw.githubusercontent.com/episiming/episiming/master/notebooks/01.01-Atributos_dos_individuos.ipynb\" target=\"_blank\"><img align=\"left\" src=\"https://img.shields.io/badge/download-notebook-9cf\" alt=\"Download Notebook\" title=\"Download Notebook\"></a>&nbsp;"
   ]
  },
  {
   "cell_type": "markdown",
   "metadata": {
    "slideshow": {
     "slide_type": "skip"
    }
   },
   "source": [
    "<!--NAVIGATOR-->\n",
    "[<- Modelo epidemiológico individual estocástico em tempos discretos](01.00-Modelo_epidemiologico_Individual_estocastico.ipynb) | [Página Inicial](00.00-Pagina_Inicial.ipynb) | [A matriz populacional do LandScan ->](01.02-Matriz_populacional.ipynb)\n",
    "\n",
    "---\n"
   ]
  },
  {
   "cell_type": "markdown",
   "metadata": {
    "slideshow": {
     "slide_type": "slide"
    }
   },
   "source": [
    "# Descrição dos atributos dos indivíduos e das residências\n",
    "\n",
    "- O modelo **considera** separadamente **cada indivíduo da população**. No caso do Rio de Janeiro, são **quase sete milhões de indivíduos**. \n",
    "\n",
    "- Cada **indivíduo** está associado a um **local de residência**.\n",
    "\n",
    "- Cada **residência** também possui seus atributos de **localização**.\n",
    "\n",
    "- Cada **indivíduo** possui **outros atributos** relevantes para o processo epidemiológico, como **idade** e **grau de infectividade**."
   ]
  },
  {
   "cell_type": "markdown",
   "metadata": {
    "slideshow": {
     "slide_type": "slide"
    }
   },
   "source": [
    "## Atributos dos indivíduos\n",
    "\n",
    "- Para cada indivíduo, temos os seguintes atributos:\n",
    "\n",
    "    - a sua **localização**, na forma de **coordenadas espaciais**;\n",
    "    \n",
    "    - a **residência** à qual pertence;\n",
    "    \n",
    "    - a sua **idade**;\n",
    "    \n",
    "    - O **grau relativo de potencial de infectividade** do indivíduo;"
   ]
  },
  {
   "cell_type": "markdown",
   "metadata": {
    "slideshow": {
     "slide_type": "slide"
    }
   },
   "source": [
    "## Atributos das residências\n",
    "\n",
    "- Em relação à residência, temos os seguintes atributos:\n",
    "\n",
    "    - a sua **localização**, na forma de **coordenadas espaciais**;\n",
    "    \n",
    "    - o **bairro** ao qual pertence;\n",
    "    \n",
    "    - o **bloco** ao qual pertence, que corresponde a uma divisão da região em um reticulado de aproximadamente $1\\,\\texttt{km}^2$ (mais precisamente 30\" x 30\", em segundos de arco);\n",
    "    \n",
    "    - O **subbloco** ao qual pertence, que corresponde a uma subdivisão do reticulado dos blocos de aproximadamente $100 \\times 100 \\,\\texttt{m}^2$ (mais precisamente 3\" x 3\", em segundos de arco).\n",
    "    \n",
    "    - O **número de residentes**.\n",
    "    \n",
    "- A seguir, descrevemos melhor como esses atributos são construídos."
   ]
  },
  {
   "cell_type": "markdown",
   "metadata": {
    "slideshow": {
     "slide_type": "slide"
    }
   },
   "source": [
    "## Representação dos indivíduos\n",
    "\n",
    "- Para uma população de $N$ indivíduos, cada indivíduo é representado por um **índice** $i=1, \\ldots, N$.\n",
    "\n",
    "- Associado a cada índice, ou seja, para cada indivíduo, temos os seguintes atributos:\n",
    "\n",
    "    - A sua **posição** $(x_i, y_i)$ em coordenadas espaciais.\n",
    "\n",
    "    - O índice linear (*flattened*) $b_i$ do **bloco** em que está localizado, considerando que a região é compartimentalizada em blocos.\n",
    "    \n",
    "    - A **residência** $h_i$ em que habita.\n",
    "\n",
    "    - A **idade** $a_i$ do indivíduo.\n",
    "\n",
    "    - O **grau de susceptibilidade** $\\rho^\\textrm{sus}_i$ do indivíduo.\n",
    "    \n",
    "    - O **grau relativo de infectividade** $\\rho^\\textrm{inf}_i$ do indivíduo.\n",
    "    \n",
    "**Observação:** O grau de infectividade, naturalmente, é um grau potencial, que só é efetivo caso o indivíduo se torne infectado."
   ]
  },
  {
   "cell_type": "markdown",
   "metadata": {},
   "source": [
    "## Representação das residências\n",
    "\n",
    "- Para uma região com $M$ residências, cada residência é representada por um **índice** $j=1, \\ldots, M$.\n",
    "\n",
    "- Associado a cada índice, ou seja, para cada residência, temos os seguintes atributos:\n",
    "\n",
    "    - A sua **posição** $(x_j, y_j)$ em coordenadas espaciais.\n",
    "    \n",
    "    - O **número de residentes** $n_j$.\n",
    "    \n",
    "    - Uma **lista de residentes** $r_j = [i_1^j, \\ldots, i_{n_j}^j]$.\n",
    "\n",
    "    - O índice linear (*flattened*) $b_j$ do **bloco** em que está localizado, considerando que a região é compartimentalizada em blocos.\n",
    "    \n",
    "    - O índice linear (*flattened*) $b^\\text{sub}_j$ do **subbloco** em que está localizado, que é um refinamento da compartimentalização acima.\n",
    "    \n",
    "    - O **bairro** $b^\\text{bairro}_j$ ao qual pertence, conforme uma indexação dos bairros da região (e.g. 2: Gamboa; 5: Centro; 15: Flamengo, etc.)"
   ]
  },
  {
   "cell_type": "markdown",
   "metadata": {},
   "source": [
    "## Construção dos atributos\n",
    "\n",
    "- A construção dos atributos é feita em várias etapas, descritas nos próximos *notebooks*."
   ]
  },
  {
   "cell_type": "markdown",
   "metadata": {
    "slideshow": {
     "slide_type": "slide"
    }
   },
   "source": [
    "## Referências\n",
    "\n",
    "- "
   ]
  },
  {
   "cell_type": "markdown",
   "metadata": {
    "slideshow": {
     "slide_type": "skip"
    }
   },
   "source": [
    "<!--NAVIGATOR-->\n",
    "\n",
    "---\n",
    "[<- Modelo epidemiológico individual estocástico em tempos discretos](01.00-Modelo_epidemiologico_Individual_estocastico.ipynb) | [Página Inicial](00.00-Pagina_Inicial.ipynb) | [A matriz populacional do LandScan ->](01.02-Matriz_populacional.ipynb)"
   ]
  }
 ],
 "metadata": {
  "kernelspec": {
   "display_name": "py38",
   "language": "python",
   "name": "py38"
  },
  "language_info": {
   "codemirror_mode": {
    "name": "ipython",
    "version": 3
   },
   "file_extension": ".py",
   "mimetype": "text/x-python",
   "name": "python",
   "nbconvert_exporter": "python",
   "pygments_lexer": "ipython3",
   "version": "3.8.1"
  }
 },
 "nbformat": 4,
 "nbformat_minor": 4
}
