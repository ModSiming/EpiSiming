{
 "cells": [
  {
   "cell_type": "markdown",
   "metadata": {
    "slideshow": {
     "slide_type": "slide"
    }
   },
   "source": [
    "# Embasamento para o trabalho e a apresentação"
   ]
  },
  {
   "cell_type": "code",
   "execution_count": 1,
   "metadata": {
    "slideshow": {
     "slide_type": "skip"
    }
   },
   "outputs": [],
   "source": [
    "import datetime\n",
    "\n",
    "import os, sys\n",
    "\n",
    "import yaml\n",
    "\n",
    "import math\n",
    "\n",
    "import random\n",
    "\n",
    "import numpy as np\n",
    "from scipy import stats\n",
    "from scipy.interpolate import interp2d\n",
    "\n",
    "import pandas as pd\n",
    "\n",
    "import matplotlib.pyplot as plt\n",
    "import seaborn as sns\n",
    "\n",
    "import io, base64\n",
    "from IPython.display import Image, HTML"
   ]
  },
  {
   "cell_type": "code",
   "execution_count": 2,
   "metadata": {
    "slideshow": {
     "slide_type": "skip"
    }
   },
   "outputs": [],
   "source": [
    "sys.path.insert(0, os.path.abspath(os.path.join(os.getcwd(), '..')))\n",
    "import episiming"
   ]
  },
  {
   "cell_type": "code",
   "execution_count": 3,
   "metadata": {
    "slideshow": {
     "slide_type": "skip"
    }
   },
   "outputs": [],
   "source": [
    "sns.set_style(\"darkgrid\")"
   ]
  },
  {
   "cell_type": "code",
   "execution_count": 4,
   "metadata": {
    "slideshow": {
     "slide_type": "skip"
    }
   },
   "outputs": [
    {
     "name": "stdout",
     "output_type": "stream",
     "text": [
      "Atualização mais recente do kernel: 20/Jul/2020\n"
     ]
    }
   ],
   "source": [
    "dt_string = datetime.datetime.now().strftime(\"%d/%b/%Y\")\n",
    "print(f\"Atualização mais recente do kernel: {dt_string}\")"
   ]
  },
  {
   "cell_type": "markdown",
   "metadata": {},
   "source": [
    "## Pontos\n",
    "\n",
    "Tópicos a serem mais bem embasados:\n",
    "\n",
    "- método de integração ($\\tau$-leap method)\n",
    "- influência das redes de conexão\n",
    "- perfil variável de infecciosidade\n",
    "- modulação da suscetibilidade e da infecciosidade\n",
    "- taxas de transmissão em cada rede"
   ]
  },
  {
   "cell_type": "markdown",
   "metadata": {},
   "source": [
    "## Métodos de integração temporal\n",
    "\n",
    "- Passo de tempo fixo:\n",
    "    - *Gillespie's $\\tau$-leap method:* múltiplos eventos ocorrendo em um passo de tempo fixo [Box 6.5, página 204, de KR (2007)]() and [Gillespie (2001)]()\n",
    "- Passo de tempo como variável aleatória (estes são modelos estocásticos *exatos* dos seus análogos em EDOs, segundo [Box 6.5, página 204, de KR (2007)]():\n",
    "    - *Gillespie's Direct Algorithm:* [Box 6.3, página 201, de Keeling & Rohani (2007)]() e [Gillespie (1977)]()\n",
    "    - *Gillespie's First Reaction Method:* [Box 6.4, página 203, de Keeling & Rohani (2007)]() e [Gillespie (1977)]()\n",
    "    - *Next Reaction Method:* [see Box 6.5, página 204, de Keeling & Rohani (2007)]() e [Gibson and Bruck (2000)]()\n",
    "- Velocidade: ver [Seção 6.3.2.1, pg. 203, de Keeling & Rohani (2007)]()\n",
    "- Vejam, também, \n",
    "    - [Seção 6.3.5, página 217, de Keeling & Rohani (2007)]()"
   ]
  },
  {
   "cell_type": "markdown",
   "metadata": {},
   "source": [
    "## Perfil variável de infecciosidade\n",
    "\n",
    "Também mencionamos muito por alto sobre o kappa ser variável no tempo.\n",
    "E sobre a influência das redes estruturadas."
   ]
  },
  {
   "cell_type": "code",
   "execution_count": null,
   "metadata": {},
   "outputs": [],
   "source": []
  }
 ],
 "metadata": {
  "kernelspec": {
   "display_name": "py38",
   "language": "python",
   "name": "py38"
  },
  "language_info": {
   "codemirror_mode": {
    "name": "ipython",
    "version": 3
   },
   "file_extension": ".py",
   "mimetype": "text/x-python",
   "name": "python",
   "nbconvert_exporter": "python",
   "pygments_lexer": "ipython3",
   "version": "3.8.1"
  }
 },
 "nbformat": 4,
 "nbformat_minor": 4
}
